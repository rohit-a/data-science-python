{
 "cells": [
  {
   "cell_type": "markdown",
   "metadata": {},
   "source": [
    "# Additional Topics"
   ]
  },
  {
   "cell_type": "markdown",
   "metadata": {},
   "source": [
    "## Python Limitations\n",
    "\n",
    "- Parallel processing\n",
    "- In memory Operations\n",
    "- Code maintainability, frequent package updates\n",
    "- Choosing best package based on need can be overwhelming"
   ]
  },
  {
   "cell_type": "markdown",
   "metadata": {},
   "source": [
    "## PySpark\n",
    "\n",
    "To overcome local RAM limitations and use parallel processing, data processing and storage could be shifted to a Spark Cluster. \n",
    "\n",
    "(https://spark.apache.org/docs/latest/api/python/index.html#)\n",
    "(https://www.kdnuggets.com/2020/04/benefits-apache-spark-pyspark.html)\n",
    "\n"
   ]
  },
  {
   "cell_type": "markdown",
   "metadata": {},
   "source": [
    "## SplunkSDK\n",
    "\n",
    "- Write/Read data to/from Splunk indexes, lookups, KV Stores\n",
    "- Trigger/Manage data processing jobs\n",
    "- Custom Search Commands\n",
    "\n",
    "(https://dev.splunk.com/enterprise/docs/devtools/python/sdk-python)"
   ]
  },
  {
   "cell_type": "markdown",
   "metadata": {},
   "source": [
    "## Apache Superset\n",
    "\n",
    "Open Source BI Visualization tool.\n",
    "\n",
    "(https://superset.incubator.apache.org/index.html)\n",
    "\n",
    "Superset provides:\n",
    "- An intuitive interface to explore and visualize datasets, and create interactive dashboards.\n",
    "- A wide array of beautiful visualizations to showcase your data.\n",
    "- Easy, code-free, user flows to drill down and slice and dice the data underlying exposed dashboards. The dashboards and charts act as a starting point for deeper analysis.\n",
    "- A state of the art SQL editor/IDE exposing a rich metadata browser, and an easy workflow to create visualizations out of any result set.\n",
    "- An extensible, high granularity security model allowing intricate rules on who can access which product features and datasets. Integration with major authentication backends (database, OpenID, LDAP, OAuth, REMOTE_USER, ...)\n",
    "- A lightweight semantic layer, allowing to control how data sources are exposed to the user by defining dimensions and metrics\n",
    "- Out of the box support for most SQL-speaking databases\n",
    "- Deep integration with Druid allows for Superset to stay blazing fast while slicing and dicing large, realtime datasets\n",
    "- Fast loading dashboards with configurable caching\n",
    "\n"
   ]
  },
  {
   "cell_type": "code",
   "execution_count": null,
   "metadata": {},
   "outputs": [],
   "source": []
  }
 ],
 "metadata": {
  "kernelspec": {
   "display_name": "Python 3",
   "language": "python",
   "name": "python3"
  },
  "language_info": {
   "codemirror_mode": {
    "name": "ipython",
    "version": 3
   },
   "file_extension": ".py",
   "mimetype": "text/x-python",
   "name": "python",
   "nbconvert_exporter": "python",
   "pygments_lexer": "ipython3",
   "version": "3.7.3"
  }
 },
 "nbformat": 4,
 "nbformat_minor": 4
}
